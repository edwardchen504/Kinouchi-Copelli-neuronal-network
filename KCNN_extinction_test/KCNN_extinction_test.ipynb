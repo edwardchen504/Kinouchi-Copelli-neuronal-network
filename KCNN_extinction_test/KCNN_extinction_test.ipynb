{
 "cells": [
  {
   "cell_type": "code",
   "execution_count": 1,
   "metadata": {},
   "outputs": [],
   "source": [
    "import matplotlib.pyplot as plt\n",
    "import numpy as np\n",
    "from numba import jit\n",
    "from numba import cuda\n",
    "from scipy.stats import poisson\n",
    "import scipy\n",
    "import numba\n",
    "import time\n",
    "import multiprocessing as mp\n",
    "import matplotlib.font_manager as font_manager\n",
    "import sys\n",
    "from tqdm import tqdm"
   ]
  },
  {
   "cell_type": "code",
   "execution_count": 2,
   "metadata": {},
   "outputs": [],
   "source": [
    "@jit(nopython = True)\n",
    "def decide_interact_neuron_square(neuron_row, neuron_column, neuron_number_row, neuron_number_column):\n",
    "    if (neuron_row - 1 < 0):\n",
    "        left = [neuron_number_row -1, neuron_column]\n",
    "    else:\n",
    "        left = [neuron_row - 1, neuron_column]\n",
    "    \n",
    "    if (neuron_row + 1 == neuron_number_row):\n",
    "        right = [0, neuron_column]\n",
    "    else:\n",
    "        right = [neuron_row + 1, neuron_column]\n",
    "        \n",
    "    if (neuron_column + 1 == neuron_number_column):\n",
    "        up = [neuron_row, 0]\n",
    "    else:\n",
    "        up = [neuron_row, neuron_column + 1]\n",
    "        \n",
    "    if (neuron_column - 1 < 0):\n",
    "        down = [neuron_row, neuron_number_column -1]\n",
    "    else:\n",
    "        down = [neuron_row, neuron_column - 1]\n",
    "        \n",
    "    return np.array([left, down, right, up])\n",
    "\n",
    "@jit(nopython = True)\n",
    "def create_square_lattice_link(row_number, column_number, sigma):\n",
    "    square_lattice = np.zeros((row_number, column_number, 4, 2))\n",
    "    p_max = 2*sigma/4\n",
    "    flag = np.zeros((row_number, column_number , 4))\n",
    "    link = np.zeros((row_number, column_number, 4))\n",
    "    for row in range(row_number):\n",
    "        for column in range(column_number):\n",
    "            square_lattice[row][column][:] = decide_interact_neuron_square(row, column, row_number, column_number)[:]\n",
    "            for i in range(4):\n",
    "                if (flag[row][column][i] == 0):\n",
    "                    random = p_max/2\n",
    "                    # random = np.random.random() * p_max\n",
    "                    link[row][column][i] = random\n",
    "                    r, c = square_lattice[row][column][i]\n",
    "                    link[int(r)][int(c)][int((i+2)%4)] = random\n",
    "                    flag[row][column][i] = 1\n",
    "                    flag[int(r)][int(c)][int((i+2)%4)] = 1\n",
    "                    \n",
    "    ###   break the periodic structure   ###\n",
    "#     for c in range (column_number):\n",
    "#         link[0][c][0] = 0\n",
    "#         link[row_number - 1][c][2] = 0\n",
    "#     for r in range (row_number):\n",
    "#         link[r][0][1] = 0\n",
    "#         link[r][column_number - 1][3] = 0\n",
    "    return square_lattice, link"
   ]
  },
  {
   "cell_type": "code",
   "execution_count": 3,
   "metadata": {},
   "outputs": [],
   "source": [
    "###   external stimulus   ###\n",
    "@jit(nopython = True)\n",
    "def external_arr(t_min, t_max, t, r):\n",
    "    if t_min <= t < t_max:\n",
    "        return (1 - np.exp(-r))\n",
    "    else:\n",
    "        return np.zeros(r.shape)\n",
    "    \n",
    "###   internal(neural) stimulus   ###\n",
    "@jit(nopython = True)\n",
    "def internal_arr(p, index_matrix, state_matrix, state_number, degree):\n",
    "    probability = np.zeros((state_matrix.shape))\n",
    "    for row in range(state_matrix.shape[0]):\n",
    "        for column in range(state_matrix.shape[1]):\n",
    "            for i in range (int(degree[row][column])) :\n",
    "                r, c = index_matrix[row][column][i]\n",
    "#                 if (state_matrix[int(r)][int(c)] == 1):\n",
    "                if (state_matrix[int(r)][int(c)] ==(state_number - 1) ):\n",
    "                    probability[row][column] = 1 - (1 - p[row][column][i]) * (1 - probability[row][column])\n",
    "    return probability\n",
    "\n",
    "\n",
    "###   determine the activity   ###\n",
    "@jit(nopython = True)\n",
    "def rho_determine(state_matrix, state_number):\n",
    "    row_number = state_matrix.shape[0]\n",
    "    column_number = state_matrix.shape[1]\n",
    "    fire = 0\n",
    "    for row in range(row_number):\n",
    "#         active = [i for i, v in enumerate(state_matrix[row]) if v==1]\n",
    "        active = [i for i, v in enumerate(state_matrix[row]) if v == (state_number - 1)]\n",
    "        fire += len(active)\n",
    "#     print(fire)\n",
    "    return fire/(state_matrix.shape[0]*state_matrix.shape[1])\n",
    "\n",
    "###   determine the average activity   ###\n",
    "@jit(nopython = True)\n",
    "def F0_determine(rho, T_min = 0, T_max = 1000):\n",
    "    return rho[T_min:T_max].sum()/rho[T_min:T_max].size"
   ]
  },
  {
   "cell_type": "code",
   "execution_count": 4,
   "metadata": {},
   "outputs": [],
   "source": [
    "@jit(nopython = True)\n",
    "def KC_model_extinction(degree, index_matrix, p, t_min, stimulas_t, stimulas_S, MC_times, state_number, ensemble_n):#, noise_r = 0):\n",
    "\n",
    "    ###   Initialization   ###\n",
    "    row_number = p.shape[0]\n",
    "    column_number = p.shape[1]\n",
    "    extinction_time = np.zeros(ensemble_n)\n",
    "    \n",
    "    ###   conduct the ensemble   ###\n",
    "    for e in range(ensemble_n):\n",
    "        \n",
    "        ###   Initialization   ###\n",
    "        state_matrix = np.random.randint(0, state_number, (row_number, column_number))\n",
    "        rho = rho_determine(state_matrix, state_number)\n",
    "        temp = np.copy(state_matrix)\n",
    "        t = 0\n",
    "        \n",
    "        ###   Monte Carlo simulation (stop while activity is zero(extinction))   ###\n",
    "        while((t<MC_times) & (rho != 0)):\n",
    "            t += 1\n",
    "            internal = internal_arr(p, index_matrix, state_matrix, state_number, degree)\n",
    "            for r in range (row_number):\n",
    "                temp[r][np.where((state_matrix[r]>0)&(state_matrix[r]<(state_number)))] -= 1 \n",
    "                \n",
    "                ###   Locate the excitable neurons   ###\n",
    "                location_0 = np.where(state_matrix[r] == 0)\n",
    "                probability[location_0] = 1 -  ((1 - internal[r][location_0]) * \\\n",
    "                                                (1 - external_arr(t_min, stimulas_t, t, stimulas_S[r][location_0])))\n",
    "                \n",
    "                 ###   determine the process from resting to firing   ###\n",
    "                random = np.random.random(column_number)\n",
    "                probability = np.zeros(column_number)\n",
    "                temp[r][np.where(random < probability)] = state_number - 1\n",
    "                \n",
    "            state_matrix = np.copy(temp)\n",
    "            rho = rho_determine(state_matrix, state_number)\n",
    "        extinction_time[e] = t\n",
    "    return extinction_time"
   ]
  },
  {
   "cell_type": "code",
   "execution_count": 5,
   "metadata": {},
   "outputs": [],
   "source": [
    "###   main function   ###\n",
    "@jit(nopython = True)\n",
    "def extinction_test(L, sigma):\n",
    "    row = int(L)\n",
    "    column = int(L)\n",
    "    states_num = 6\n",
    "    times = 2000\n",
    "    ensemble_times = 5000\n",
    "    degree = np.ones((row, column))*4\n",
    "    degree_clone = degree.copy()\n",
    "    network_connection, p  = create_square_lattice_link(row,column,sigma)\n",
    "    r = 0.0\n",
    "    r_array = np.ones((row, column)) * r \n",
    "    extinction = KC_model_extinction(degree, network_connection, p, 0, 800, r_array, times, states_num, ensemble_times)\n",
    "    return extinction\n",
    "\n",
    "###   Muti-core   ###\n",
    "@jit(nopython = True)\n",
    "def multi_compute_extinction_test(L_state_number):\n",
    "    L, sigma = L_state_number[0], L_state_number[1]\n",
    "    extinction_result = extinction_test(L, sigma)\n",
    "    print(sigma, 'finished')\n",
    "    return extinction_result"
   ]
  },
  {
   "cell_type": "code",
   "execution_count": 6,
   "metadata": {},
   "outputs": [
    {
     "name": "stdout",
     "output_type": "stream",
     "text": [
      "Time cost: 2034.1834139823914\n"
     ]
    }
   ],
   "source": [
    "pool = mp.Pool(processes = 6)\n",
    "test_banch = np.array([[128, 1.6 + 0.02*i] for i in range(6)])\n",
    "start_i = time.time()\n",
    "test_result_PBC = pool.map(multi_compute_extinction_test, test_banch)\n",
    "print('Time cost:', time.time()-start_i)"
   ]
  },
  {
   "cell_type": "code",
   "execution_count": 5,
   "metadata": {},
   "outputs": [],
   "source": [
    "test_result_OBC = np.load('KCNN_extinction_test_L128_OBC_e5000.npy')   ### load data for open boundary condition\n",
    "test_result_PBC = np.load('KCNN_extinction_test_L128_PBC_e5000.npy')   ### load data for periodic boundary condition"
   ]
  },
  {
   "cell_type": "code",
   "execution_count": 6,
   "metadata": {},
   "outputs": [
    {
     "data": {
      "image/png": "[encoded data removed]",
      "text/plain": [
       "<Figure size 864x360 with 1 Axes>"
      ]
     },
     "metadata": {
      "needs_background": "light"
     },
     "output_type": "display_data"
    }
   ],
   "source": [
    "fig, ax = plt.subplots(figsize=(12, 5))\n",
    "for sigma in range(6):\n",
    "    ax.hist(test_result_PBC[sigma], bins = 60, range = (0, 1000), alpha = 0.5, \\\n",
    "            label = '$\\sigma$ = %.2f'%(1.6 + 0.02*sigma), density = 1)\n",
    "    \n",
    "ax.set_xlabel('time(ms)',fontsize=18)\n",
    "ax.set_ylabel('times(n)',fontsize=18)\n",
    "ax.set_title('n= %d, L = %d, e = %d, Extinction time'%(6, 128, 5000),fontsize=20)\n",
    "# ax.set_yscale('log')\n",
    "plt.xticks(fontsize=15)\n",
    "plt.yticks(fontsize=15)\n",
    "font_prop = font_manager.FontProperties(size=12)\n",
    "ax.legend(prop = font_prop)\n",
    "fig.tight_layout()\n",
    "plt.grid()"
   ]
  },
  {
   "cell_type": "code",
   "execution_count": null,
   "metadata": {},
   "outputs": [],
   "source": []
  }
 ],
 "metadata": {
  "kernelspec": {
   "display_name": "Python 3 (ipykernel)",
   "language": "python",
   "name": "python3"
  },
  "language_info": {
   "codemirror_mode": {
    "name": "ipython",
    "version": 3
   },
   "file_extension": ".py",
   "mimetype": "text/x-python",
   "name": "python",
   "nbconvert_exporter": "python",
   "pygments_lexer": "ipython3",
   "version": "3.8.12"
  }
 },
 "nbformat": 4,
 "nbformat_minor": 4
}
